{
 "cells": [
  {
   "cell_type": "markdown",
   "metadata": {},
   "source": [
    "<div style=\"display: flex; background-color: RGB(255,114,0);\" >\n",
    "\n",
    "# PROJET - CLIMAT : Regional Climate Forecast 2022 by CNRS </h1>\n",
    "</div>"
   ]
  },
  {
   "cell_type": "markdown",
   "metadata": {},
   "source": [
    "<div style=\"display: flex; background-color: Blue; padding: 15px;\" >\n",
    "\n",
    "## 1.Mission \n",
    "</div>\n",
    "\n",
    "https://challengedata.ens.fr/challenges/80"
   ]
  },
  {
   "cell_type": "markdown",
   "metadata": {},
   "source": [
    "<div style=\"display: flex; background-color: Green; padding: 7px;\" >\n",
    "\n",
    "### 1.1. Challenge goals\n",
    "</div>\n",
    "\n",
    "How accurately can we predict regional temperature anomalies based on past and neighbouring climate observations ?\n",
    "\n",
    "<div style=\"display: flex; background-color: Green; padding: 7px;\" >\n",
    "\n",
    "### 1.2. Challenge context\n",
    "</div>\n",
    "\n",
    "The prediction of temperature anomalies on interannual timescales (1 or 5 years) is one of the most challenging topics in climate science. Recently, a study has shown that local anomalies in the earth's temperature have a certain predictability 1 to 5 years in the future, even while temperatures are average at a global scale. The aim of this study is to demonstrate this by predicting temperature anomalies at a regional scale.\n",
    "\n",
    "In climate science, because of the inherent chaotic nature of the studied system, predictions have to be made in a probabilistic framework. Indeed, for risk assessment and early mitigation, the likelihood of extreme events is potentially as important as the knowledge of the expected event. Hence, a skillful prediction has to be accurate (minimal prediction error) and reliable (good sampling of prediction spread).\n",
    "\n",
    "Another challenge of climate science is the lack or the limited amount of data to train any prediction system. Thus, this challenge aims to find an algorithm that predicts the temperature anomalies of the next years using the past 10 years of data and to provide a probabilistic prediction, or at least the expected prediction and its uncertainty (within a Gaussian assumption).\n",
    "\n",
    "Ref: Sévellec, F., & Drijfhout, S. S. (2018). A novel probabilistic forecast system predicting anomalously warm 2018-2022 reinforcing the long-term global warming trend. Nature Communications, 9(1), [3024]. DOI: 10.1038/s41467-018-05442-8\n",
    "\n",
    "\n",
    "<div style=\"display: flex; background-color: Green; padding: 7px;\" >\n",
    "\n",
    "### 1.3. Benchmark description\n",
    "</div>\n",
    "\n",
    "To estimate the validity of the predictions we propose to use two different measures: the coefficient of determination (R2), which shows the skill of the mean prediction; and the reliability, which measures the accuracy of the spread in the prediction. The metric thus characterizes the accuracy using the mean and the consistency of the predicted error with the effective one. You can check out the climate_metric.py file for details.\n",
    "\n",
    "The benchmark for this challenge consists in the mean and variance of the 22 model predictions (rows where TIME = 10). This simple benchmark achieves a score of -0.23 on the test data."
   ]
  },
  {
   "cell_type": "code",
   "execution_count": 1,
   "metadata": {},
   "outputs": [],
   "source": [
    "from os import getcwd\n",
    "import pandas as pd\n",
    "import numpy as np\n",
    "import seaborn as sns\n",
    "import matplotlib.pyplot as plt\n",
    "import missingno as msno\n",
    "from tqdm import tqdm"
   ]
  },
  {
   "cell_type": "markdown",
   "metadata": {},
   "source": [
    "<div style=\"display: flex; background-color: Blue; padding: 15px;\" >\n",
    "\n",
    "## 2.Chargement des données\n",
    "</div>"
   ]
  },
  {
   "cell_type": "code",
   "execution_count": 2,
   "metadata": {},
   "outputs": [
    {
     "name": "stdout",
     "output_type": "stream",
     "text": [
      "Current execution path : c:\\Users\\User\\WORK\\workspace-ia\\PROJETS\\projet_climat\\\n",
      "Dataset path : c:\\Users\\User\\WORK\\workspace-ia\\PROJETS\\projet_climat\\dataset\\\n"
     ]
    }
   ],
   "source": [
    "# ---------------------------------------------------------------------------------------------\n",
    "#                               MAIN\n",
    "# ---------------------------------------------------------------------------------------------\n",
    "verbose = False\n",
    "force_reloading = True\n",
    "\n",
    "# Récupère le répertoire du programme\n",
    "file_path = getcwd() + \"\\\\\"\n",
    "data_set_path = file_path + \"dataset\\\\\"\n",
    "\n",
    "print(f\"Current execution path : {file_path}\")\n",
    "print(f\"Dataset path : {data_set_path}\")"
   ]
  },
  {
   "cell_type": "code",
   "execution_count": 14,
   "metadata": {},
   "outputs": [],
   "source": [
    "X_train_file_name = \"train_X.csv\"\n",
    "Y_train_file_name = \"train_Y.csv\"\n",
    "X_test_file_name = \"test_X.csv\"\n",
    "Y_test_randomized_file_name = \"test_Y_randomized.csv\""
   ]
  },
  {
   "cell_type": "markdown",
   "metadata": {},
   "source": [
    "- `ID` : a unique ID for each value.\n",
    "\n",
    "- `DATASET`: the dataset id. There are several independent data sets per file. Each dataset is composed of:\n",
    "  - `3072` temperature anomalies all over the world from 22 models (model id from 1 to 22) during 10 years (time from 0 to 9)\n",
    "  - `3072` temperature anomalies all over the world actually observed (model id = 0) during 10 years (time from 0 to 9)\n",
    "  - the predicted 192 temparature anomalies all over the world for the 22 models (time equals 10)\n",
    "\n",
    "- `MODEL`: model id (1-22) for models and (0) or the actual observation\n",
    "- `TIME`: timestamp as integers (0-9) for the 10 year history and 10 for the predicted date.\n",
    "- `POSITION`: earth coordinates in healpix (nside=4 for prediction, nside=16 for history) the ordering is nested\n",
    "` `VALUE` : the corresponding temperature anomalies."
   ]
  },
  {
   "cell_type": "code",
   "execution_count": 10,
   "metadata": {},
   "outputs": [
    {
     "name": "stdout",
     "output_type": "stream",
     "text": [
      "(3553920, 6) données chargées ------> ['ID', 'DATASET', 'MODEL', 'TIME', 'POSITION', 'VALUE']\n"
     ]
    },
    {
     "data": {
      "text/html": [
       "<div>\n",
       "<style scoped>\n",
       "    .dataframe tbody tr th:only-of-type {\n",
       "        vertical-align: middle;\n",
       "    }\n",
       "\n",
       "    .dataframe tbody tr th {\n",
       "        vertical-align: top;\n",
       "    }\n",
       "\n",
       "    .dataframe thead th {\n",
       "        text-align: right;\n",
       "    }\n",
       "</style>\n",
       "<table border=\"1\" class=\"dataframe\">\n",
       "  <thead>\n",
       "    <tr style=\"text-align: right;\">\n",
       "      <th></th>\n",
       "      <th>ID</th>\n",
       "      <th>DATASET</th>\n",
       "      <th>MODEL</th>\n",
       "      <th>TIME</th>\n",
       "      <th>POSITION</th>\n",
       "      <th>VALUE</th>\n",
       "    </tr>\n",
       "  </thead>\n",
       "  <tbody>\n",
       "    <tr>\n",
       "      <th>0</th>\n",
       "      <td>DATA_0000_MODEL_0000_TIME_0000_POS_0000</td>\n",
       "      <td>0</td>\n",
       "      <td>0</td>\n",
       "      <td>0</td>\n",
       "      <td>0</td>\n",
       "      <td>0.2621</td>\n",
       "    </tr>\n",
       "    <tr>\n",
       "      <th>1</th>\n",
       "      <td>DATA_0000_MODEL_0000_TIME_0000_POS_0001</td>\n",
       "      <td>0</td>\n",
       "      <td>0</td>\n",
       "      <td>0</td>\n",
       "      <td>1</td>\n",
       "      <td>0.2917</td>\n",
       "    </tr>\n",
       "    <tr>\n",
       "      <th>2</th>\n",
       "      <td>DATA_0000_MODEL_0000_TIME_0000_POS_0002</td>\n",
       "      <td>0</td>\n",
       "      <td>0</td>\n",
       "      <td>0</td>\n",
       "      <td>2</td>\n",
       "      <td>0.3111</td>\n",
       "    </tr>\n",
       "    <tr>\n",
       "      <th>3</th>\n",
       "      <td>DATA_0000_MODEL_0000_TIME_0000_POS_0003</td>\n",
       "      <td>0</td>\n",
       "      <td>0</td>\n",
       "      <td>0</td>\n",
       "      <td>3</td>\n",
       "      <td>0.3727</td>\n",
       "    </tr>\n",
       "    <tr>\n",
       "      <th>4</th>\n",
       "      <td>DATA_0000_MODEL_0000_TIME_0000_POS_0004</td>\n",
       "      <td>0</td>\n",
       "      <td>0</td>\n",
       "      <td>0</td>\n",
       "      <td>4</td>\n",
       "      <td>0.3222</td>\n",
       "    </tr>\n",
       "  </tbody>\n",
       "</table>\n",
       "</div>"
      ],
      "text/plain": [
       "                                        ID  DATASET  MODEL  TIME  POSITION  \\\n",
       "0  DATA_0000_MODEL_0000_TIME_0000_POS_0000        0      0     0         0   \n",
       "1  DATA_0000_MODEL_0000_TIME_0000_POS_0001        0      0     0         1   \n",
       "2  DATA_0000_MODEL_0000_TIME_0000_POS_0002        0      0     0         2   \n",
       "3  DATA_0000_MODEL_0000_TIME_0000_POS_0003        0      0     0         3   \n",
       "4  DATA_0000_MODEL_0000_TIME_0000_POS_0004        0      0     0         4   \n",
       "\n",
       "    VALUE  \n",
       "0  0.2621  \n",
       "1  0.2917  \n",
       "2  0.3111  \n",
       "3  0.3727  \n",
       "4  0.3222  "
      ]
     },
     "execution_count": 10,
     "metadata": {},
     "output_type": "execute_result"
    }
   ],
   "source": [
    "X_train_origin = pd.read_csv(data_set_path+X_train_file_name, sep=',')\n",
    "\n",
    "print(f\"{X_train_origin.shape} données chargées ------> {list(X_train_origin.columns)}\")\n",
    "X_train_origin.head()"
   ]
  },
  {
   "cell_type": "code",
   "execution_count": null,
   "metadata": {},
   "outputs": [],
   "source": [
    "show_model(df_x,model,data)"
   ]
  },
  {
   "cell_type": "code",
   "execution_count": 11,
   "metadata": {},
   "outputs": [
    {
     "name": "stdout",
     "output_type": "stream",
     "text": [
      "(960, 5) données chargées ------> ['ID', 'DATASET', 'POSITION', 'MEAN', 'VARIANCE']\n"
     ]
    },
    {
     "data": {
      "text/html": [
       "<div>\n",
       "<style scoped>\n",
       "    .dataframe tbody tr th:only-of-type {\n",
       "        vertical-align: middle;\n",
       "    }\n",
       "\n",
       "    .dataframe tbody tr th {\n",
       "        vertical-align: top;\n",
       "    }\n",
       "\n",
       "    .dataframe thead th {\n",
       "        text-align: right;\n",
       "    }\n",
       "</style>\n",
       "<table border=\"1\" class=\"dataframe\">\n",
       "  <thead>\n",
       "    <tr style=\"text-align: right;\">\n",
       "      <th></th>\n",
       "      <th>ID</th>\n",
       "      <th>DATASET</th>\n",
       "      <th>POSITION</th>\n",
       "      <th>MEAN</th>\n",
       "      <th>VARIANCE</th>\n",
       "    </tr>\n",
       "  </thead>\n",
       "  <tbody>\n",
       "    <tr>\n",
       "      <th>0</th>\n",
       "      <td>DATA_0000_POS_0000</td>\n",
       "      <td>0</td>\n",
       "      <td>0</td>\n",
       "      <td>0.4990</td>\n",
       "      <td>NaN</td>\n",
       "    </tr>\n",
       "    <tr>\n",
       "      <th>1</th>\n",
       "      <td>DATA_0000_POS_0001</td>\n",
       "      <td>0</td>\n",
       "      <td>1</td>\n",
       "      <td>0.4542</td>\n",
       "      <td>NaN</td>\n",
       "    </tr>\n",
       "    <tr>\n",
       "      <th>2</th>\n",
       "      <td>DATA_0000_POS_0002</td>\n",
       "      <td>0</td>\n",
       "      <td>2</td>\n",
       "      <td>0.7851</td>\n",
       "      <td>NaN</td>\n",
       "    </tr>\n",
       "    <tr>\n",
       "      <th>3</th>\n",
       "      <td>DATA_0000_POS_0003</td>\n",
       "      <td>0</td>\n",
       "      <td>3</td>\n",
       "      <td>0.3708</td>\n",
       "      <td>NaN</td>\n",
       "    </tr>\n",
       "    <tr>\n",
       "      <th>4</th>\n",
       "      <td>DATA_0000_POS_0004</td>\n",
       "      <td>0</td>\n",
       "      <td>4</td>\n",
       "      <td>0.4650</td>\n",
       "      <td>NaN</td>\n",
       "    </tr>\n",
       "  </tbody>\n",
       "</table>\n",
       "</div>"
      ],
      "text/plain": [
       "                   ID  DATASET  POSITION    MEAN  VARIANCE\n",
       "0  DATA_0000_POS_0000        0         0  0.4990       NaN\n",
       "1  DATA_0000_POS_0001        0         1  0.4542       NaN\n",
       "2  DATA_0000_POS_0002        0         2  0.7851       NaN\n",
       "3  DATA_0000_POS_0003        0         3  0.3708       NaN\n",
       "4  DATA_0000_POS_0004        0         4  0.4650       NaN"
      ]
     },
     "execution_count": 11,
     "metadata": {},
     "output_type": "execute_result"
    }
   ],
   "source": [
    "Y_train_origin = pd.read_csv(data_set_path+Y_train_file_name, sep=',')\n",
    "\n",
    "print(f\"{Y_train_origin.shape} données chargées ------> {list(Y_train_origin.columns)}\")\n",
    "Y_train_origin.head()"
   ]
  },
  {
   "cell_type": "code",
   "execution_count": 12,
   "metadata": {},
   "outputs": [
    {
     "name": "stdout",
     "output_type": "stream",
     "text": [
      "(1421568, 6) données chargées ------> ['ID', 'DATASET', 'MODEL', 'TIME', 'POSITION', 'VALUE']\n"
     ]
    },
    {
     "data": {
      "text/html": [
       "<div>\n",
       "<style scoped>\n",
       "    .dataframe tbody tr th:only-of-type {\n",
       "        vertical-align: middle;\n",
       "    }\n",
       "\n",
       "    .dataframe tbody tr th {\n",
       "        vertical-align: top;\n",
       "    }\n",
       "\n",
       "    .dataframe thead th {\n",
       "        text-align: right;\n",
       "    }\n",
       "</style>\n",
       "<table border=\"1\" class=\"dataframe\">\n",
       "  <thead>\n",
       "    <tr style=\"text-align: right;\">\n",
       "      <th></th>\n",
       "      <th>ID</th>\n",
       "      <th>DATASET</th>\n",
       "      <th>MODEL</th>\n",
       "      <th>TIME</th>\n",
       "      <th>POSITION</th>\n",
       "      <th>VALUE</th>\n",
       "    </tr>\n",
       "  </thead>\n",
       "  <tbody>\n",
       "    <tr>\n",
       "      <th>0</th>\n",
       "      <td>DATA_0000_MODEL_0000_TIME_0000_POS_0000</td>\n",
       "      <td>0</td>\n",
       "      <td>0</td>\n",
       "      <td>0</td>\n",
       "      <td>0</td>\n",
       "      <td>-0.1261</td>\n",
       "    </tr>\n",
       "    <tr>\n",
       "      <th>1</th>\n",
       "      <td>DATA_0000_MODEL_0000_TIME_0000_POS_0001</td>\n",
       "      <td>0</td>\n",
       "      <td>0</td>\n",
       "      <td>0</td>\n",
       "      <td>1</td>\n",
       "      <td>-0.1504</td>\n",
       "    </tr>\n",
       "    <tr>\n",
       "      <th>2</th>\n",
       "      <td>DATA_0000_MODEL_0000_TIME_0000_POS_0002</td>\n",
       "      <td>0</td>\n",
       "      <td>0</td>\n",
       "      <td>0</td>\n",
       "      <td>2</td>\n",
       "      <td>-0.1753</td>\n",
       "    </tr>\n",
       "    <tr>\n",
       "      <th>3</th>\n",
       "      <td>DATA_0000_MODEL_0000_TIME_0000_POS_0003</td>\n",
       "      <td>0</td>\n",
       "      <td>0</td>\n",
       "      <td>0</td>\n",
       "      <td>3</td>\n",
       "      <td>-0.2156</td>\n",
       "    </tr>\n",
       "    <tr>\n",
       "      <th>4</th>\n",
       "      <td>DATA_0000_MODEL_0000_TIME_0000_POS_0004</td>\n",
       "      <td>0</td>\n",
       "      <td>0</td>\n",
       "      <td>0</td>\n",
       "      <td>4</td>\n",
       "      <td>-0.1625</td>\n",
       "    </tr>\n",
       "  </tbody>\n",
       "</table>\n",
       "</div>"
      ],
      "text/plain": [
       "                                        ID  DATASET  MODEL  TIME  POSITION  \\\n",
       "0  DATA_0000_MODEL_0000_TIME_0000_POS_0000        0      0     0         0   \n",
       "1  DATA_0000_MODEL_0000_TIME_0000_POS_0001        0      0     0         1   \n",
       "2  DATA_0000_MODEL_0000_TIME_0000_POS_0002        0      0     0         2   \n",
       "3  DATA_0000_MODEL_0000_TIME_0000_POS_0003        0      0     0         3   \n",
       "4  DATA_0000_MODEL_0000_TIME_0000_POS_0004        0      0     0         4   \n",
       "\n",
       "    VALUE  \n",
       "0 -0.1261  \n",
       "1 -0.1504  \n",
       "2 -0.1753  \n",
       "3 -0.2156  \n",
       "4 -0.1625  "
      ]
     },
     "execution_count": 12,
     "metadata": {},
     "output_type": "execute_result"
    }
   ],
   "source": [
    "X_test_origin = pd.read_csv(data_set_path+X_test_file_name, sep=',')\n",
    "\n",
    "print(f\"{X_test_origin.shape} données chargées ------> {list(X_test_origin.columns)}\")\n",
    "X_test_origin.head()"
   ]
  },
  {
   "cell_type": "code",
   "execution_count": 15,
   "metadata": {},
   "outputs": [
    {
     "name": "stdout",
     "output_type": "stream",
     "text": [
      "(384, 5) données chargées ------> ['ID', 'DATASET', 'POSITION', 'MEAN', 'VARIANCE']\n"
     ]
    },
    {
     "data": {
      "text/html": [
       "<div>\n",
       "<style scoped>\n",
       "    .dataframe tbody tr th:only-of-type {\n",
       "        vertical-align: middle;\n",
       "    }\n",
       "\n",
       "    .dataframe tbody tr th {\n",
       "        vertical-align: top;\n",
       "    }\n",
       "\n",
       "    .dataframe thead th {\n",
       "        text-align: right;\n",
       "    }\n",
       "</style>\n",
       "<table border=\"1\" class=\"dataframe\">\n",
       "  <thead>\n",
       "    <tr style=\"text-align: right;\">\n",
       "      <th></th>\n",
       "      <th>ID</th>\n",
       "      <th>DATASET</th>\n",
       "      <th>POSITION</th>\n",
       "      <th>MEAN</th>\n",
       "      <th>VARIANCE</th>\n",
       "    </tr>\n",
       "  </thead>\n",
       "  <tbody>\n",
       "    <tr>\n",
       "      <th>0</th>\n",
       "      <td>DATA_0000_POS_0000</td>\n",
       "      <td>0</td>\n",
       "      <td>0</td>\n",
       "      <td>-0.668516</td>\n",
       "      <td>0.868183</td>\n",
       "    </tr>\n",
       "    <tr>\n",
       "      <th>1</th>\n",
       "      <td>DATA_0000_POS_0001</td>\n",
       "      <td>0</td>\n",
       "      <td>1</td>\n",
       "      <td>3.786169</td>\n",
       "      <td>0.579119</td>\n",
       "    </tr>\n",
       "    <tr>\n",
       "      <th>2</th>\n",
       "      <td>DATA_0000_POS_0002</td>\n",
       "      <td>0</td>\n",
       "      <td>2</td>\n",
       "      <td>-1.786576</td>\n",
       "      <td>1.231979</td>\n",
       "    </tr>\n",
       "    <tr>\n",
       "      <th>3</th>\n",
       "      <td>DATA_0000_POS_0003</td>\n",
       "      <td>0</td>\n",
       "      <td>3</td>\n",
       "      <td>-1.577711</td>\n",
       "      <td>0.559777</td>\n",
       "    </tr>\n",
       "    <tr>\n",
       "      <th>4</th>\n",
       "      <td>DATA_0000_POS_0004</td>\n",
       "      <td>0</td>\n",
       "      <td>4</td>\n",
       "      <td>-2.420425</td>\n",
       "      <td>2.157342</td>\n",
       "    </tr>\n",
       "  </tbody>\n",
       "</table>\n",
       "</div>"
      ],
      "text/plain": [
       "                   ID  DATASET  POSITION      MEAN  VARIANCE\n",
       "0  DATA_0000_POS_0000        0         0 -0.668516  0.868183\n",
       "1  DATA_0000_POS_0001        0         1  3.786169  0.579119\n",
       "2  DATA_0000_POS_0002        0         2 -1.786576  1.231979\n",
       "3  DATA_0000_POS_0003        0         3 -1.577711  0.559777\n",
       "4  DATA_0000_POS_0004        0         4 -2.420425  2.157342"
      ]
     },
     "execution_count": 15,
     "metadata": {},
     "output_type": "execute_result"
    }
   ],
   "source": [
    "Y_test_randomized_origin = pd.read_csv(data_set_path+Y_test_randomized_file_name, sep=',')\n",
    "\n",
    "print(f\"{Y_test_randomized_origin.shape} données chargées ------> {list(Y_test_randomized_origin.columns)}\")\n",
    "Y_test_randomized_origin.head()"
   ]
  }
 ],
 "metadata": {
  "interpreter": {
   "hash": "e6b94bde3e578104dd8bc34978c5e69e2e4794ec4c8fa8918a9250e2f96feb08"
  },
  "kernelspec": {
   "display_name": "Python 3.9.7 ('.venv_climate': venv)",
   "language": "python",
   "name": "python3"
  },
  "language_info": {
   "codemirror_mode": {
    "name": "ipython",
    "version": 3
   },
   "file_extension": ".py",
   "mimetype": "text/x-python",
   "name": "python",
   "nbconvert_exporter": "python",
   "pygments_lexer": "ipython3",
   "version": "3.9.10"
  },
  "orig_nbformat": 4
 },
 "nbformat": 4,
 "nbformat_minor": 2
}
